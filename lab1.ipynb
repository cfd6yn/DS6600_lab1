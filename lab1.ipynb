{
 "cells": [
  {
   "cell_type": "markdown",
   "id": "781a56a9",
   "metadata": {},
   "source": [
    "### Problem 2\n",
    "Part a\n",
    "\n",
    "Part b\n",
    "\n",
    "Part c\n",
    "\n",
    "Part d\n",
    "\n"
   ]
  },
  {
   "cell_type": "markdown",
   "id": "9f558b39",
   "metadata": {},
   "source": [
    "### Problem 3\n",
    "```bash\n",
    "# Create a new conda environment with Python 3.12\n",
    "conda create -n ds6600lab1 python=3.12\n",
    "\n",
    "# Activate the environment\n",
    "conda activate ds6600lab1\n",
    "\n",
    "# Install required packages with conda\n",
    "conda install -c conda-forge neo4j python-dotenv pandas numpy scipy scikit-learn requests prince ipykernel wquantiles\n",
    "\n",
    "# Install ydata_profiling with pip\n",
    "pip install ydata-profiling    "
   ]
  },
  {
   "cell_type": "code",
   "execution_count": 1,
   "id": "d473bf43",
   "metadata": {},
   "outputs": [
    {
     "name": "stderr",
     "output_type": "stream",
     "text": [
      "c:\\Users\\fwyjo\\miniconda3\\envs\\ds6600lab1\\Lib\\site-packages\\tqdm\\auto.py:21: TqdmWarning: IProgress not found. Please update jupyter and ipywidgets. See https://ipywidgets.readthedocs.io/en/stable/user_install.html\n",
      "  from .autonotebook import tqdm as notebook_tqdm\n"
     ]
    },
    {
     "data": {
      "text/html": [
       "\n",
       "            <div>\n",
       "                <ins><a href=\"https://ydata.ai/register\">Upgrade to ydata-sdk</a></ins>\n",
       "                <p>\n",
       "                    Improve your data and profiling with ydata-sdk, featuring data quality scoring, redundancy detection, outlier identification, text validation, and synthetic data generation.\n",
       "                </p>\n",
       "            </div>\n",
       "            "
      ],
      "text/plain": [
       "<IPython.core.display.HTML object>"
      ]
     },
     "metadata": {},
     "output_type": "display_data"
    }
   ],
   "source": [
    "import numpy as np\n",
    "import pandas as pd\n",
    "import weighted # this is a module of wquantiles\n",
    "from scipy import stats\n",
    "import prince\n",
    "from ydata_profiling import ProfileReport"
   ]
  }
 ],
 "metadata": {
  "kernelspec": {
   "display_name": "ds6600lab1",
   "language": "python",
   "name": "python3"
  },
  "language_info": {
   "codemirror_mode": {
    "name": "ipython",
    "version": 3
   },
   "file_extension": ".py",
   "mimetype": "text/x-python",
   "name": "python",
   "nbconvert_exporter": "python",
   "pygments_lexer": "ipython3",
   "version": "3.12.7"
  }
 },
 "nbformat": 4,
 "nbformat_minor": 5
}
