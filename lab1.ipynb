{
 "cells": [
  {
   "cell_type": "markdown",
   "id": "781a56a9",
   "metadata": {},
   "source": [
    "Problem 2a\n",
    "\n",
    "Problem 2b\n",
    "\n",
    "Problem 2c\n",
    "\n",
    "Problem 2d\n",
    "\n"
   ]
  }
 ],
 "metadata": {
  "language_info": {
   "name": "python"
  }
 },
 "nbformat": 4,
 "nbformat_minor": 5
}
