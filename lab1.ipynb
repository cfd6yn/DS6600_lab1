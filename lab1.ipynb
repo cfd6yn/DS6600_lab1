{
 "cells": [
  {
   "cell_type": "markdown",
   "id": "781a56a9",
   "metadata": {},
   "source": [
    "#### Problem 2\n",
    "Part a \n",
    "\n",
    "Part b\n",
    "\n",
    "Part c\n",
    "\n",
    "Part d\n",
    "\n"
   ]
  },
  {
   "cell_type": "markdown",
   "id": "9f558b39",
   "metadata": {},
   "source": [
    "### Problem 3\n",
    "```bash\n",
    "# Create a new conda environment with Python 3.12\n",
    "conda create -n ds6600lab1 python=3.12\n",
    "\n",
    "# Activate the environment\n",
    "conda activate ds6600lab1\n",
    "\n",
    "# Install required packages with conda\n",
    "conda install -c conda-forge neo4j python-dotenv pandas numpy scipy scikit-learn requests prince ipykernel wquantiles\n",
    "\n",
    "# Install ydata_profiling with pip\n",
    "pip install ydata-profiling    "
   ]
  },
  {
   "cell_type": "code",
   "execution_count": 1,
   "id": "d473bf43",
   "metadata": {},
   "outputs": [
    {
     "name": "stderr",
     "output_type": "stream",
     "text": [
      "c:\\Users\\fwyjo\\miniconda3\\envs\\ds6600lab1\\Lib\\site-packages\\tqdm\\auto.py:21: TqdmWarning: IProgress not found. Please update jupyter and ipywidgets. See https://ipywidgets.readthedocs.io/en/stable/user_install.html\n",
      "  from .autonotebook import tqdm as notebook_tqdm\n"
     ]
    },
    {
     "data": {
      "text/html": [
       "\n",
       "            <div>\n",
       "                <ins><a href=\"https://ydata.ai/register\">Upgrade to ydata-sdk</a></ins>\n",
       "                <p>\n",
       "                    Improve your data and profiling with ydata-sdk, featuring data quality scoring, redundancy detection, outlier identification, text validation, and synthetic data generation.\n",
       "                </p>\n",
       "            </div>\n",
       "            "
      ],
      "text/plain": [
       "<IPython.core.display.HTML object>"
      ]
     },
     "metadata": {},
     "output_type": "display_data"
    }
   ],
   "source": [
    "import numpy as np\n",
    "import pandas as pd\n",
    "import weighted # this is a module of wquantiles\n",
    "from scipy import stats\n",
    "import prince\n",
    "from ydata_profiling import ProfileReport"
   ]
  },
  {
   "cell_type": "markdown",
   "id": "409a7456",
   "metadata": {},
   "source": [
    "#### Problem 4b\n",
    "```bash\n",
    "(ds6600lab1) PS C:\\Users\\fwyjo\\Desktop\\F25-UVA-DS6600\\DS6600_lab1> docker build -t lab1-ubuntu-python .\n",
    "\n",
    "[+] Building 0.8s (6/6) FINISHED                                                                                                      docker:desktop-linux\n",
    "\n",
    " => [internal] load build definition from Dockerfile                                                                                                  0.0s\n",
    "\n",
    " => => transferring dockerfile: 128B                                                                                                                  0.0s \n",
    "\n",
    " => => exporting manifest list sha256:dea5f1d63cb39f029870fe4f375b301e6a1037ea21d2f195fd3dc811150b224b                                                0.0s \n",
    "\n",
    " => => naming to docker.io/library/lab1-ubuntu-python:latest                                                                                          0.0s \n",
    "\n",
    " => => unpacking to docker.io/library/lab1-ubuntu-python:latest                                                                                       0.0s \n",
    "\n",
    "\n",
    "View build details: docker-desktop://dashboard/build/desktop-linux/desktop-linux/o351l9gx5sbmktgdyfkbcsnob\n"
   ]
  },
  {
   "cell_type": "markdown",
   "id": "47705acf",
   "metadata": {},
   "source": [
    "#### Problem 4c\n",
    "\n",
    "```bash\n",
    "(ds6600lab1) PS C:\\Users\\fwyjo\\Desktop\\F25-UVA-DS6600\\DS6600_lab1> docker run -it lab1-ubuntu-python\n",
    "\n",
    "Python 3.12.3 (main, Aug 14 2025, 17:47:21) [GCC 13.3.0] on linux\n",
    "\n",
    "Type \"help\", \"copyright\", \"credits\" or \"license\" for more information.\n",
    "\n",
    ">>>"
   ]
  },
  {
   "cell_type": "markdown",
   "id": "82db6da4",
   "metadata": {},
   "source": [
    "#### Problem 5\n",
    "```bash\n",
    "                                                                            It is written in the Book of Quetzalcoatl:\n",
    "\n",
    "                                                              --------          After the Creation, the cruel god Moloch rebelled\n",
    "                                                              .....@.|          against the authority of Marduk the Creator.\n",
    "                                                              |..r.f.|          Moloch stole from Marduk the most powerful of all\n",
    "                                                              |?$....|          the artifacts of the gods, the Amulet of Yendor,\n",
    "                                                              --------          and he hid it in the dark cavities of Gehennom, the\n",
    "                                                                                Under World, where he now lurks, and bides his time.\n",
    "\n",
    "                                                                            Your god Quetzalcoatl seeks to possess the Amulet, and with it\n",
    "                                                                            to gain deserved ascendance over the other gods.\n",
    "\n",
    "                                                                            You, a newly trained Digger, have been heralded\n",
    "                                                                            from birth as the instrument of Quetzalcoatl.  You are destined\n",
    "                                                                            to recover the Amulet for your deity, or die in the\n",
    "                                                                            attempt.  Your hour of destiny has come.  For the sake\n",
    "I_am_number_456_in_ the Digger St:16 Dx:9 Co:12 In:16 Wi:14 Ch:8 Lawful     of us all:  Go bravely with Quetzalcoatl!\n",
    "Dlvl:1 $:0 HP:15(15) Pw:1(1) AC:9 Xp:1                                      --More--\n"
   ]
  },
  {
   "cell_type": "code",
   "execution_count": 1,
   "id": "46ea162a",
   "metadata": {},
   "outputs": [],
   "source": [
    "from neo4j import GraphDatabase\n",
    "import dotenv\n",
    "import os"
   ]
  },
  {
   "cell_type": "markdown",
   "id": "04cb9172",
   "metadata": {},
   "source": [
    "#### Problem 6b\n",
    "```bash\n",
    "# The default port the image run on:\n",
    "# Bolt port is 7687\n",
    "# HTTP (Neo4j Browser UI/REST) port is 7474\n",
    "# The information is under \"How to use this image\" in the docker hub website.\n",
    "\n",
    "# The folder inside the container that stores the data:\n",
    "# /data\n",
    "# This is also under the section \"How to use this image\" in the docker hub website. It mentioned - a volume is bound to /data to allow the database to be persisted outside the container.\n",
    "\n",
    "# The environmental variables required by the Neo4j image:\n",
    "# NEO4J_AUTH\n",
    "# In the documentation, the getting started section describes using --env NEO4J_AUTH=neo4j/your_password neo4j to specify credentials\n"
   ]
  },
  {
   "cell_type": "markdown",
   "id": "4f0ee552",
   "metadata": {},
   "source": [
    "#### Problem 6c\n",
    "```bash\n",
    "version: \"3.9\"\n",
    "\n",
    "services:\n",
    "  neo4j:\n",
    "    image: neo4j:latest\n",
    "    container_name: neo4j\n",
    "    ports:\n",
    "      - 7474:7474\n",
    "      - 7687:7687\n",
    "    env_file:\n",
    "      - .env\n",
    "    volumes:\n",
    "      - neo4jdata:/data\n",
    "\n",
    "volumes:\n",
    "  neo4jdata:"
   ]
  },
  {
   "cell_type": "code",
   "execution_count": 10,
   "id": "63f039c0",
   "metadata": {},
   "outputs": [
    {
     "name": "stdout",
     "output_type": "stream",
     "text": [
      "Connection to Neo4j established successfully.\n"
     ]
    }
   ],
   "source": [
    "from neo4j import GraphDatabase\n",
    "import dotenv\n",
    "import os\n",
    "\n",
    "dotenv.load_dotenv()\n",
    "\n",
    "NEO4J_AUTH = os.getenv('NEO4J_AUTH').split(\"/\")\n",
    "uri = \"bolt://localhost:7687\"\n",
    "USERNAME = NEO4J_AUTH[0]\n",
    "PASSWORD = NEO4J_AUTH[1]\n",
    "\n",
    "try:\n",
    "    driver = GraphDatabase.driver(URI, auth=(USERNAME, PASSWORD))\n",
    "    \n",
    "    driver.verify_connectivity()\n",
    "    print(\"Connection to Neo4j established successfully.\")\n",
    "except Exception as e:\n",
    "    print(f\"Failed to connect to Neo4j: {e}\")\n",
    "finally:\n",
    "    if 'driver' in locals() and driver:\n",
    "        driver.close()"
   ]
  }
 ],
 "metadata": {
  "kernelspec": {
   "display_name": "ds6600lab1",
   "language": "python",
   "name": "python3"
  },
  "language_info": {
   "codemirror_mode": {
    "name": "ipython",
    "version": 3
   },
   "file_extension": ".py",
   "mimetype": "text/x-python",
   "name": "python",
   "nbconvert_exporter": "python",
   "pygments_lexer": "ipython3",
   "version": "3.12.7"
  }
 },
 "nbformat": 4,
 "nbformat_minor": 5
}
